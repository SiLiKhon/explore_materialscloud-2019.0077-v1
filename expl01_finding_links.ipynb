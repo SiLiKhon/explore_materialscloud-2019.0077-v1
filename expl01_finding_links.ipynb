{
 "cells": [
  {
   "cell_type": "code",
   "execution_count": 1,
   "metadata": {},
   "outputs": [],
   "source": [
    "from aiida.storage.sqlite_zip.backend import SqliteZipBackend\n",
    "from aiida import orm, load_profile, get_profile\n",
    "\n",
    "load_profile(SqliteZipBackend.create_profile(\"../data_Kahle2020/migrated.aiida\"))\n",
    "\n",
    "# Fixing missing user, as in https://aiida.discourse.group/t/setting-up-a-user-for-sqlitezipbackend/139/3\n",
    "(user,) = orm.QueryBuilder().append(orm.User).all(flat=True)\n",
    "get_profile().default_user_email = user.email\n",
    "\n",
    "\n",
    "traj_group = orm.Group.objects.get(label=\"concatenated_trajectories\")\n",
    "diff_group = orm.Group.objects.get(label=\"diffusion_coefficients\")\n",
    "stru_group = orm.Group.objects.get(label=\"starting_structures\")"
   ]
  },
  {
   "cell_type": "code",
   "execution_count": 2,
   "metadata": {},
   "outputs": [],
   "source": [
    "from aiida_utils import find_connections"
   ]
  },
  {
   "cell_type": "code",
   "execution_count": 3,
   "metadata": {},
   "outputs": [],
   "source": [
    "connections_traj_diff_l2r = find_connections(traj_group.nodes, diff_group.nodes, mode=\"from_left\")\n",
    "connections_traj_diff_r2l = find_connections(traj_group.nodes, diff_group.nodes, mode=\"to_right\")\n",
    "\n",
    "connections_stru_traj_l2r = find_connections(stru_group.nodes, traj_group.nodes, mode=\"from_left\")\n",
    "connections_stru_traj_r2l = find_connections(stru_group.nodes, traj_group.nodes, mode=\"to_right\")"
   ]
  },
  {
   "cell_type": "code",
   "execution_count": 4,
   "metadata": {},
   "outputs": [],
   "source": [
    "# There's a 1-to-1 correspondence between trajectories and diffusion results:\n",
    "assert connections_traj_diff_l2r == connections_traj_diff_r2l\n",
    "for l, r in connections_traj_diff_l2r:\n",
    "    assert len(l) == 1\n",
    "    assert len(r) == 1\n",
    "\n",
    "# So we can define:\n",
    "connections_traj_diff = [(l[0], r[0]) for l, r in connections_traj_diff_l2r]"
   ]
  },
  {
   "cell_type": "code",
   "execution_count": 5,
   "metadata": {},
   "outputs": [
    {
     "name": "stdout",
     "output_type": "stream",
     "text": [
      "[149] -> [4]                                           |       [149] <- [4]                                      \n",
      "[271] -> [253]                                         |       [271] <- [253]                                    \n",
      "[368] -> [298, 5426, 11504, 11788]                     |       [368] <- [298]                                    \n",
      "[568] -> [446]                                         |       [568] <- [446]                                    \n",
      "[603] -> [681]                                         |       [603] <- [681]                                    \n",
      "[800] -> [870]                                         |       [800] <- [870]                                    \n",
      "[1072] -> [945]                                        |       [1072] <- [945]                                   \n",
      "[1146] -> [1244]                                       |       [1146] <- [1244]                                  \n",
      "[1349] -> [1311]                                       |       [1349] <- [1311]                                  \n",
      "[1601] -> [1512, 28398, 68514, 103138]                 |       [1601] <- [1512]                                  \n"
     ]
    }
   ],
   "source": [
    "# But that's not the case for starting structures:\n",
    "for (l1, r1), (l2, r2) in zip(connections_stru_traj_l2r[:10], connections_stru_traj_r2l):\n",
    "    line1 = f\"{[n.pk for n in l1]} -> {[n.pk for n in r1]}\"\n",
    "    line2 = f\"{[n.pk for n in l2]} <- {[n.pk for n in r2]}\"\n",
    "    print(f\"{line1:50}     |       {line2:50}\")"
   ]
  },
  {
   "cell_type": "code",
   "execution_count": 6,
   "metadata": {},
   "outputs": [],
   "source": [
    "# Actually, there's a single initial structure for every trajectory:\n",
    "for l, r in connections_stru_traj_r2l:\n",
    "    assert len(l) == 1\n",
    "    assert len(r) == 1\n",
    "\n",
    "# So we can define:\n",
    "connections_stru_traj = [(l[0], r[0]) for l, r in connections_stru_traj_r2l]"
   ]
  },
  {
   "cell_type": "code",
   "execution_count": 7,
   "metadata": {},
   "outputs": [
    {
     "data": {
      "text/plain": [
       "200"
      ]
     },
     "execution_count": 7,
     "metadata": {},
     "output_type": "execute_result"
    }
   ],
   "source": [
    "len(connections_stru_traj)"
   ]
  },
  {
   "cell_type": "code",
   "execution_count": 8,
   "metadata": {},
   "outputs": [
    {
     "name": "stdout",
     "output_type": "stream",
     "text": [
      "Number of different starting structures: 121\n",
      "Number of different trajectories: 200\n"
     ]
    }
   ],
   "source": [
    "print(\"Number of different starting structures:\", len(set(l for l, r in connections_stru_traj)))\n",
    "print(\"Number of different trajectories:\", len(set(r for l, r in connections_stru_traj)))"
   ]
  },
  {
   "cell_type": "code",
   "execution_count": null,
   "metadata": {},
   "outputs": [],
   "source": []
  }
 ],
 "metadata": {
  "kernelspec": {
   "display_name": "Python 3",
   "language": "python",
   "name": "python3"
  },
  "language_info": {
   "codemirror_mode": {
    "name": "ipython",
    "version": 3
   },
   "file_extension": ".py",
   "mimetype": "text/x-python",
   "name": "python",
   "nbconvert_exporter": "python",
   "pygments_lexer": "ipython3",
   "version": "3.8.10"
  }
 },
 "nbformat": 4,
 "nbformat_minor": 2
}
